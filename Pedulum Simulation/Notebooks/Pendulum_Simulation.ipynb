{
 "cells": [
  {
   "cell_type": "markdown",
   "metadata": {},
   "source": [
    "# Imports"
   ]
  },
  {
   "cell_type": "code",
   "execution_count": 2,
   "metadata": {
    "ExecuteTime": {
     "end_time": "2020-04-27T07:05:55.267267Z",
     "start_time": "2020-04-27T07:05:55.260294Z"
    }
   },
   "outputs": [],
   "source": [
    "import numpy as np\n",
    "import matplotlib.pyplot as plt\n",
    "from matplotlib.animation import FuncAnimation\n",
    "from mpl_toolkits.axes_grid.inset_locator import inset_axes\n",
    "%matplotlib notebook\n",
    "import re\n",
    "from scipy.integrate import odeint, solve_ivp"
   ]
  },
  {
   "cell_type": "markdown",
   "metadata": {},
   "source": [
    "# Decalaring Paths"
   ]
  },
  {
   "cell_type": "code",
   "execution_count": 3,
   "metadata": {
    "ExecuteTime": {
     "end_time": "2020-04-27T07:05:56.311939Z",
     "start_time": "2020-04-27T07:05:56.309191Z"
    }
   },
   "outputs": [],
   "source": [
    "results_path = '../Notebook Results/'"
   ]
  },
  {
   "cell_type": "markdown",
   "metadata": {},
   "source": [
    "# Initializations"
   ]
  },
  {
   "cell_type": "code",
   "execution_count": 4,
   "metadata": {
    "ExecuteTime": {
     "end_time": "2020-04-27T07:05:57.964626Z",
     "start_time": "2020-04-27T07:05:57.959525Z"
    }
   },
   "outputs": [
    {
     "data": {
      "text/html": [
       "<style>\n",
       ".output_wrapper button.btn.btn-default,\n",
       ".output_wrapper .ui-dialog-titlebar {\n",
       "  display: none;\n",
       "}\n",
       "</style>\n"
      ],
      "text/plain": [
       "<IPython.core.display.HTML object>"
      ]
     },
     "metadata": {},
     "output_type": "display_data"
    }
   ],
   "source": [
    "%%html\n",
    "<style>\n",
    ".output_wrapper button.btn.btn-default,\n",
    ".output_wrapper .ui-dialog-titlebar {\n",
    "  display: none;\n",
    "}\n",
    "</style>"
   ]
  },
  {
   "cell_type": "code",
   "execution_count": 5,
   "metadata": {
    "ExecuteTime": {
     "end_time": "2020-04-27T07:05:58.966429Z",
     "start_time": "2020-04-27T07:05:58.963490Z"
    }
   },
   "outputs": [],
   "source": [
    "plt.rcParams['figure.dpi'] = 80\n",
    "plt.rcParams['figure.figsize'] = (10,6)"
   ]
  },
  {
   "cell_type": "markdown",
   "metadata": {},
   "source": [
    "# Simulation"
   ]
  },
  {
   "cell_type": "code",
   "execution_count": 6,
   "metadata": {
    "ExecuteTime": {
     "end_time": "2020-04-27T07:06:00.488064Z",
     "start_time": "2020-04-27T07:06:00.446376Z"
    },
    "code_folding": [
     2,
     17,
     25,
     31,
     42,
     101,
     123
    ]
   },
   "outputs": [],
   "source": [
    "class PendulumSimulator:\n",
    "    \n",
    "    def __init__(self, theta_0 = 60.0, omega_0 = 3.9, air_resistance_factor = 0.01, \n",
    "                 gravitational_force = 9.8, length = 2, timesteps = 1000, vector_skips=5, interval=50):\n",
    "        self.DEGREES = np.pi/180\n",
    "        self.theta_0 = theta_0*self.DEGREES\n",
    "        self.omega_0 = omega_0\n",
    "        self.air_resistance_factor = air_resistance_factor\n",
    "        self.gravitational_force = gravitational_force\n",
    "        self.length = length\n",
    "        self.timesteps = timesteps\n",
    "        self.simulation_time = np.linspace(0, self.timesteps, 10*(self.timesteps)+1)\n",
    "        self.labels_changed = False\n",
    "        self.vector_skips = vector_skips\n",
    "        self.interval = interval\n",
    "        \n",
    "    @staticmethod\n",
    "    def get_pendulum_deriv(t, params, g, l, a):\n",
    "        _theta = params[0]\n",
    "        _omega = params[1]\n",
    "        d_theta = _omega\n",
    "        d_omega = -(g/l)*np.sin(_theta) - (a*d_theta)\n",
    "        return d_theta, d_omega\n",
    "    \n",
    "    @staticmethod\n",
    "    def update_rad2deg(labels):\n",
    "        _labels = [float(re.sub(r'[^\\x00-\\x7F]+','-', s)) for s in labels]\n",
    "        _labels = [round((int(k)*(180/np.pi))/180, 1) for k in _labels]\n",
    "        _labels = [r'${0}\\pi$'.format(k) for k in _labels]\n",
    "        return _labels\n",
    "        \n",
    "    def calculate_deriv(self):\n",
    "        \n",
    "        y0 = [self.theta_0, self.omega_0]\n",
    "        res = odeint(self.get_pendulum_deriv, y0 , self.simulation_time,\n",
    "                     args=(self.gravitational_force, self.length,self.air_resistance_factor), \n",
    "                     tfirst=True)\n",
    "        self._theta, self._omega = res.T\n",
    "        self._alpha = -(self.gravitational_force/self.length)*np.sin(self._theta) - (self.air_resistance_factor*self._omega)\n",
    "        self.pendulum_coord = self.length*np.c_[np.cos((1.5*np.pi)+self._theta),\n",
    "                                                np.sin((1.5*np.pi)+self._theta)]\n",
    "        \n",
    "    def init_plot(self):\n",
    "        \n",
    "        self.axes.set_title(r'$Dynamic Of A Pendulum$')\n",
    "        self.ot_axes = inset_axes(self.axes, width=\"40%\", height=\"30%\", loc=4,\n",
    "                                  bbox_to_anchor=(0,0.1,1,1), bbox_transform=self.axes.transAxes)\n",
    "        self.ot_axes.patch.set_alpha(0.5)\n",
    "        self.pen_axes = inset_axes(self.axes, width=\"15%\", height=\"30%\", loc=3,\n",
    "                                   bbox_to_anchor=(0.055,0.1,1,1), bbox_transform=self.axes.transAxes)\n",
    "        self.pen_axes.patch.set_alpha(0.5)\n",
    "        \n",
    "        # Setup Time v/s Theta Axes\n",
    "        self._p1, = self.axes.plot(self.simulation_time[0], self._theta[0], marker = 'o', markersize=1.2, lw=0.1, color='w')\n",
    "        self._p2, = self.ot_axes.plot(self._theta[0], self._omega[0], color='w', lw=0.8)\n",
    "        self._p3  = self.ot_axes.scatter(self._theta[0], self._omega[0], facecolor='r', edgecolor='r', s=5)\n",
    "\n",
    "        self.axes.set_facecolor('k')\n",
    "        self.axes.grid()\n",
    "        self.axes.set_xlabel(r'$Time(sec) \\longrightarrow$')\n",
    "        self.axes.set_ylabel(r'$\\theta^\\circ_{rad} \\longrightarrow$')\n",
    "        self.axes.set_ylim(self._theta.min()*1.1, self._theta.max()*1.1)\n",
    "\n",
    "        # Setup Omega Theta Axes\n",
    "        self.ot_axes.set_facecolor('#ffefd6')\n",
    "        for spine in self.ot_axes.spines.values():\n",
    "            spine.set_edgecolor('white')\n",
    "\n",
    "        self.ot_axes.grid(color='w', linestyle='-.', linewidth=0.3)\n",
    "        _xrange = np.arange(self._theta.min()*1.2,self._theta.max()*1.2)\n",
    "        _yrange = np.arange(self._omega.min()*1.2,self._omega.max()*1.2)\n",
    "        self.ot_axes.plot([0]*len(_yrange),_yrange, lw=1, c='w')\n",
    "        self.ot_axes.plot(_xrange,[0]*len(_xrange), lw=1, c='w')\n",
    "        self.ot_axes.tick_params(axis='both', colors='w')\n",
    "        self.ot_axes.set_xlabel(r'$\\theta^\\circ_{rad} \\longrightarrow$', color='w')\n",
    "        self.ot_axes.set_ylabel(r'$\\omega \\longrightarrow$', color='w')\n",
    "        \n",
    "        skip = slice(None, None, self.vector_skips)\n",
    "        self.ot_axes.quiver(self._theta[skip], self._omega[skip], self._omega[skip], self._alpha[skip], \n",
    "                              color='#cffaac', pivot='tip', width=0.005, scale=1 / 0.015, alpha=0.5)\n",
    "        \n",
    "        # Setup Pendulum Axes\n",
    "        self.pen_axes.text(0, 1.5*self.length, r'$0^\\circ$', fontsize=12, color='w')\n",
    "        self.pen_axes.tick_params(labelbottom = False, labeltop = False,\n",
    "                                  labelleft = False, labelright = False)\n",
    "        self.pen_axes.set_xlim(-1.5*self.length,1.5*self.length)\n",
    "        self.pen_axes.set_ylim(-1.5*self.length,1.5*self.length)\n",
    "        for spine in self.pen_axes.spines.values():\n",
    "            spine.set_edgecolor('white')\n",
    "        self.pen_axes.plot([0]*50, np.arange(-25,25), color='w', lw=0.8, linestyle='-.')\n",
    "        self.pen_axes.plot(np.arange(-25,25), [0]*50, color='w', lw=0.4, linestyle='-.')\n",
    "        self.pen_axes.scatter(0, 0, facecolor='k', edgecolor='w', s=3)\n",
    "        self._p4, = self.pen_axes.plot([0,self.pendulum_coord[0][0]], \n",
    "                                       [0,self.pendulum_coord[0][1]],\n",
    "                                       color='#ffd77a')\n",
    "        self._p5 = self.pen_axes.scatter(self.pendulum_coord[0][0],\n",
    "                                         self.pendulum_coord[0][1],\n",
    "                                         facecolor='brown', edgecolor='w', s=25)\n",
    "        \n",
    "        return [self._p1, self._p2, self._p3, self._p4, self._p5]\n",
    "    \n",
    "    def update_plot(self, i):\n",
    "        self.axes.set_xlim(0, self.simulation_time[i])\n",
    "        \n",
    "        if self.labels_changed == False:\n",
    "            actual_labels1 = [k.get_text() for k in self.axes.get_yticklabels()]\n",
    "            updated_labels1 = self.update_rad2deg(actual_labels1)\n",
    "            self.axes.set_yticklabels(updated_labels1)\n",
    "\n",
    "            actual_labels2 = [k.get_text() for k in self.ot_axes.get_xticklabels()]\n",
    "            updated_labels2 = self.update_rad2deg(actual_labels2)\n",
    "            self.ot_axes.set_xticklabels(updated_labels2)\n",
    "            self.labels_changed = True\n",
    "        \n",
    "        self._p1.set_data(self.simulation_time[:i], self._theta[:i])\n",
    "        self._p2.set_data(self._theta[i-10:i], self._omega[i-10:i])\n",
    "        self._p3.set_offsets(np.c_[self._theta[i-1], self._omega[i-1]])\n",
    "        self._p4.set_data([0,self.pendulum_coord[i][0]], \n",
    "                          [0,self.pendulum_coord[i][1]])\n",
    "        self._p5.set_offsets(self.pendulum_coord[i])\n",
    "        \n",
    "        return [self._p1, self._p2, self._p3, self._p4, self._p5]\n",
    "    \n",
    "    def start_simulation(self):\n",
    "        \n",
    "        self.fig, self.axes = plt.subplots()\n",
    "        self.calculate_deriv()\n",
    "        self.ani=FuncAnimation(fig=self.fig, func=self.update_plot, init_func=self.init_plot,\n",
    "                               interval=self.interval, blit=True, save_count = 1000)\n",
    "        plt.show()\n",
    "        "
   ]
  },
  {
   "cell_type": "code",
   "execution_count": 12,
   "metadata": {
    "ExecuteTime": {
     "end_time": "2020-04-27T07:12:11.496521Z",
     "start_time": "2020-04-27T07:12:11.494187Z"
    }
   },
   "outputs": [],
   "source": [
    "psHandler = PendulumSimulator(theta_0 = 60.0, omega_0 = 4, \n",
    "                              air_resistance_factor = 0.01, \n",
    "                              gravitational_force = 9.8, \n",
    "                              length = 2, timesteps = 1000, vector_skips = 20, interval=50)\n",
    "plt.rcParams['figure.figsize'] = (13,6)\n",
    "psHandler.start_simulation()"
   ]
  },
  {
   "cell_type": "code",
   "execution_count": null,
   "metadata": {},
   "outputs": [],
   "source": []
  },
  {
   "cell_type": "code",
   "execution_count": null,
   "metadata": {},
   "outputs": [],
   "source": []
  }
 ],
 "metadata": {
  "hide_input": false,
  "kernelspec": {
   "display_name": "Python 3",
   "language": "python",
   "name": "python3"
  },
  "language_info": {
   "codemirror_mode": {
    "name": "ipython",
    "version": 3
   },
   "file_extension": ".py",
   "mimetype": "text/x-python",
   "name": "python",
   "nbconvert_exporter": "python",
   "pygments_lexer": "ipython3",
   "version": "3.7.4"
  },
  "toc": {
   "base_numbering": 1,
   "nav_menu": {},
   "number_sections": true,
   "sideBar": true,
   "skip_h1_title": false,
   "title_cell": "Table of Contents",
   "title_sidebar": "Contents",
   "toc_cell": false,
   "toc_position": {},
   "toc_section_display": true,
   "toc_window_display": false
  },
  "varInspector": {
   "cols": {
    "lenName": 16,
    "lenType": 16,
    "lenVar": 40
   },
   "kernels_config": {
    "python": {
     "delete_cmd_postfix": "",
     "delete_cmd_prefix": "del ",
     "library": "var_list.py",
     "varRefreshCmd": "print(var_dic_list())"
    },
    "r": {
     "delete_cmd_postfix": ") ",
     "delete_cmd_prefix": "rm(",
     "library": "var_list.r",
     "varRefreshCmd": "cat(var_dic_list()) "
    }
   },
   "types_to_exclude": [
    "module",
    "function",
    "builtin_function_or_method",
    "instance",
    "_Feature"
   ],
   "window_display": false
  }
 },
 "nbformat": 4,
 "nbformat_minor": 2
}
