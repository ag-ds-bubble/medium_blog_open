{
 "cells": [
  {
   "cell_type": "markdown",
   "metadata": {},
   "source": [
    "**Diffusion Limited Aggregation**\n",
    "![SegmentLocal](../Material/Brownian_tree.gif \"DLA\")\n",
    "\n",
    "Diffusion limited aggregation is a process in which particles randomly walking, come close enough the already existing particles in the region that they stick (*Stickiness* : A hyperparameter that can be varied). Now these particles follow a random motion, called Broiwnian Motion.\n",
    "\n",
    "For the purpose of simulation, the surface is considered to be a canvas of MxM dimensions [A matrix], initialised to all zero, but one, that is the centre most point in the plane. Thats the particle, with which the aggregation begins, the particle spawning in random in the proximity start a random walk in the canvas and when it comes in the proximity of an existing particle in the aggregation, it gets stuck at it, becoming a part of that aggregation. Then a new particle will spawn, following the same procedure, shall it find its place in the aggregation, attaching itself to the already existing aggregation and the process goes on till each particle has found its place in the aggregation."
   ]
  },
  {
   "cell_type": "markdown",
   "metadata": {},
   "source": [
    "# Imports"
   ]
  },
  {
   "cell_type": "code",
   "execution_count": 1,
   "metadata": {
    "ExecuteTime": {
     "end_time": "2020-01-14T16:15:48.718058Z",
     "start_time": "2020-01-14T16:15:47.926872Z"
    }
   },
   "outputs": [
    {
     "data": {
      "application/vnd.jupyter.widget-view+json": {
       "model_id": "bc06533ec11043bbb2140638ba28f854",
       "version_major": 2,
       "version_minor": 0
      },
      "text/plain": [
       "HBox(children=(IntProgress(value=1, bar_style='info', max=1), HTML(value='')))"
      ]
     },
     "metadata": {},
     "output_type": "display_data"
    },
    {
     "name": "stdout",
     "output_type": "stream",
     "text": [
      "\n"
     ]
    }
   ],
   "source": [
    "# General\n",
    "import numpy as np\n",
    "import random\n",
    "from IPython.display import clear_output\n",
    "from tqdm import tqdm_notebook\n",
    "tqdm_notebook()\n",
    "import time\n",
    "import matplotlib as mpl\n",
    "from datetime import datetime\n",
    "import pandas as pd\n",
    "import os\n",
    "\n",
    "# Visualisation\n",
    "import matplotlib.pyplot as plt\n",
    "import seaborn as sns\n",
    "sns.set(style='whitegrid')\n",
    "\n",
    "# Algorithms\n",
    "from scipy.optimize import curve_fit\n",
    "import statsmodels.api as sm\n"
   ]
  },
  {
   "cell_type": "markdown",
   "metadata": {},
   "source": [
    "# Paths"
   ]
  },
  {
   "cell_type": "code",
   "execution_count": 2,
   "metadata": {
    "ExecuteTime": {
     "end_time": "2020-01-14T16:15:53.671742Z",
     "start_time": "2020-01-14T16:15:53.668759Z"
    }
   },
   "outputs": [],
   "source": [
    "# General\n",
    "root_path = '../'\n",
    "data_path = 'Data/'\n",
    "\n",
    "# Prepared Data\n",
    "prepared_data_path = 'Prepared Data/'\n",
    "plotting_path = root_path+'Plots/'"
   ]
  },
  {
   "cell_type": "markdown",
   "metadata": {},
   "source": [
    "# DLA Simulations"
   ]
  },
  {
   "cell_type": "code",
   "execution_count": 7,
   "metadata": {
    "ExecuteTime": {
     "end_time": "2020-01-14T16:17:53.689236Z",
     "start_time": "2020-01-14T16:17:53.670039Z"
    }
   },
   "outputs": [],
   "source": [
    "class DLA:\n",
    "    def __init__(self):\n",
    "\n",
    "        self.instantiate(100, 2000, mode='Default')\n",
    "\n",
    "    def instantiate(self, _shape, _particles, mode='Custom', verbose=False):\n",
    "\n",
    "        self.canvas_mode = mode\n",
    "        self.shape = _shape\n",
    "        self.particles = _particles\n",
    "\n",
    "        self.canvas = np.zeros([self.shape, self.shape])\n",
    "        self.canvas[int(self.shape/2)][int(self.shape/2)] = 1\n",
    "\n",
    "        # length : 4(n-1)\n",
    "        self.boundary_points = [(w, h) for w in [0, self.shape-1] for h in range(0, self.shape)]\n",
    "        self.boundary_points += [(h, w) for w in [0, self.shape-1] for h in range(0, self.shape)]\n",
    "        self.boundary_points = set(self.boundary_points)\n",
    "        self.boundary_points = [list(e) for e in self.boundary_points]\n",
    "        self.cache = []\n",
    "        if verbose:\n",
    "            print('Number of Spawning points for a player : ', len(self.boundary_points))\n",
    "\n",
    "    def spawnParticle(self):\n",
    "\n",
    "        if self.boundary_points == []:\n",
    "            spawnIdx = -999\n",
    "            return spawnIdx\n",
    "        spawnIdx = random.choice(self.boundary_points)\n",
    "\n",
    "        while self.canvas[spawnIdx[0], spawnIdx[1]] != 0:\n",
    "\n",
    "            spawnIdx = random.choice(self.boundary_points)\n",
    "\n",
    "        return spawnIdx\n",
    "\n",
    "    def checkState(self, idx, _stck):\n",
    "\n",
    "        allProximities = set([(idx[0]+i, idx[1]+e) for i in [0, 1, -1] for e in [0, 1, -1]])\n",
    "        allProximities = [list(e) for e in allProximities if e != tuple(\n",
    "            idx) if (0 <= e[0] < self.shape) and (0 <= e[1] < self.shape)]\n",
    "        allVacantProximities = [e for e in allProximities if self.canvas[e[0]][e[1]] == 0]\n",
    "\n",
    "        if sum([self.canvas[e[0]][e[1]] for e in allProximities]) == 0:\n",
    "            return True, random.choice(allProximities)\n",
    "        else:\n",
    "            if random.random() < _stck:\n",
    "                return False, [-999, -999]\n",
    "            else:\n",
    "                if allVacantProximities != []:\n",
    "                    return True, random.choice(allVacantProximities)\n",
    "                else:\n",
    "                    print('Nowhere to go!')\n",
    "                    return False, [-999, -999]\n",
    "\n",
    "    def initiate(self, stickiness=1):\n",
    "\n",
    "        for eachParticles in tqdm_notebook(range(self.particles)):\n",
    "\n",
    "            inMotion = True\n",
    "            spawnP_Idx = self.spawnParticle()\n",
    "            \n",
    "            if spawnP_Idx == -999:\n",
    "                print('No boundary point left. Terminating!')\n",
    "                break\n",
    "\n",
    "            self.canvas[spawnP_Idx[0], spawnP_Idx[1]] = 1\n",
    "\n",
    "            while inMotion:\n",
    "\n",
    "                inMotion, nextMove = self.checkState(spawnP_Idx, stickiness)\n",
    "\n",
    "                if inMotion:\n",
    "                    self.canvas[spawnP_Idx[0], spawnP_Idx[1]] = 0\n",
    "                    self.canvas[nextMove[0], nextMove[1]] = 1\n",
    "                    spawnP_Idx = nextMove\n",
    "\n",
    "                else:\n",
    "                    if spawnP_Idx in self.boundary_points:\n",
    "                        self.boundary_points.remove(spawnP_Idx)\n",
    "                        print(len(self.boundary_points))\n",
    "                    break\n",
    "\n",
    "            t = self.canvas.copy()\n",
    "            self.cache.append(t)\n",
    "            \n",
    "        return self.cache"
   ]
  },
  {
   "cell_type": "code",
   "execution_count": 8,
   "metadata": {
    "ExecuteTime": {
     "end_time": "2020-01-14T16:18:22.004993Z",
     "start_time": "2020-01-14T16:17:58.854621Z"
    }
   },
   "outputs": [
    {
     "name": "stdout",
     "output_type": "stream",
     "text": [
      "Number of Spawning points for a player :  396\n"
     ]
    },
    {
     "data": {
      "application/vnd.jupyter.widget-view+json": {
       "model_id": "64c60dc83022454a866b47a12fc68bac",
       "version_major": 2,
       "version_minor": 0
      },
      "text/plain": [
       "HBox(children=(IntProgress(value=0, max=1000), HTML(value='')))"
      ]
     },
     "metadata": {},
     "output_type": "display_data"
    },
    {
     "name": "stdout",
     "output_type": "stream",
     "text": [
      "395\n",
      "394\n",
      "393\n",
      "392\n",
      "391\n",
      "390\n",
      "389\n",
      "388\n",
      "387\n",
      "386\n",
      "385\n",
      "384\n",
      "383\n",
      "382\n",
      "381\n",
      "380\n",
      "379\n",
      "378\n",
      "377\n",
      "376\n",
      "375\n",
      "374\n",
      "373\n",
      "372\n",
      "\n"
     ]
    }
   ],
   "source": [
    "dlaSim = DLA()\n",
    "p = 1000\n",
    "s = 100\n",
    "\n",
    "dlaSim.instantiate(s, p, verbose=True)\n",
    "CACHE = dlaSim.initiate()\n",
    "\n"
   ]
  },
  {
   "cell_type": "markdown",
   "metadata": {},
   "source": [
    "# Random Testing Space"
   ]
  },
  {
   "cell_type": "code",
   "execution_count": 33,
   "metadata": {
    "ExecuteTime": {
     "end_time": "2020-01-14T16:28:36.416123Z",
     "start_time": "2020-01-14T16:28:36.310478Z"
    }
   },
   "outputs": [
    {
     "data": {
      "text/plain": [
       "<matplotlib.image.AxesImage at 0x1c22f18b10>"
      ]
     },
     "execution_count": 33,
     "metadata": {},
     "output_type": "execute_result"
    },
    {
     "data": {
      "image/png": "[encoded data removed]",
      "text/plain": [
       "<Figure size 432x288 with 1 Axes>"
      ]
     },
     "metadata": {
      "needs_background": "light"
     },
     "output_type": "display_data"
    }
   ],
   "source": [
    "plt.imshow(CACHE[-1], cmap = 'viridis')"
   ]
  },
  {
   "cell_type": "code",
   "execution_count": 19,
   "metadata": {
    "ExecuteTime": {
     "end_time": "2020-01-14T16:25:22.983433Z",
     "start_time": "2020-01-14T16:25:22.974004Z"
    }
   },
   "outputs": [
    {
     "ename": "SyntaxError",
     "evalue": "invalid syntax (<ipython-input-19-9f17b271ed82>, line 1)",
     "output_type": "error",
     "traceback": [
      "\u001b[0;36m  File \u001b[0;32m\"<ipython-input-19-9f17b271ed82>\"\u001b[0;36m, line \u001b[0;32m1\u001b[0m\n\u001b[0;31m    ValueError: Colormap maroon is not recognized. Possible values are: Accent, Accent_r, Blues, Blues_r, BrBG, BrBG_r, BuGn, BuGn_r, BuPu, BuPu_r, CMRmap, CMRmap_r, Dark2, Dark2_r, GnBu, GnBu_r, Greens, Greens_r, Greys, Greys_r, OrRd, OrRd_r, Oranges, Oranges_r, PRGn, PRGn_r, Paired, Paired_r, Pastel1, Pastel1_r, Pastel2, Pastel2_r, PiYG, PiYG_r, PuBu, PuBuGn, PuBuGn_r, PuBu_r, PuOr, PuOr_r, PuRd, PuRd_r, Purples, Purples_r, RdBu, RdBu_r, RdGy, RdGy_r, RdPu, RdPu_r, RdYlBu, RdYlBu_r, RdYlGn, RdYlGn_r, Reds, Reds_r, Set1, Set1_r, Set2, Set2_r, Set3, Set3_r, Spectral, Spectral_r, Wistia, Wistia_r, YlGn, YlGnBu, YlGnBu_r, YlGn_r, YlOrBr, YlOrBr_r, YlOrRd, YlOrRd_r, afmhot, afmhot_r, autumn, autumn_r, binary, binary_r, bone, bone_r, brg, brg_r, bwr, bwr_r, cividis, cividis_r, cool, cool_r, coolwarm, coolwarm_r, copper, copper_r, cubehelix, cubehelix_r, flag, flag_r, gist_earth, gist_earth_r, gist_gray, gist_gray_r, gist_heat, gist_heat_r, gist_ncar, gist_ncar_r, gist_rainbow, gist_rainbow_r, gist_stern, gist_stern_r, gist_yarg, gist_yarg_r, gnuplot, gnuplot2, gnuplot2_r, gnuplot_r, gray, gray_r, hot, hot_r, hsv, hsv_r, icefire, icefire_r, inferno, inferno_r, jet, jet_r, magma, magma_r, mako, mako_r, nipy_spectral, nipy_spectral_r, ocean, ocean_r, pink, pink_r, plasma, plasma_r, prism, prism_r, rainbow, rainbow_r, rocket, rocket_r, seismic, seismic_r, spring, spring_r, summer, summer_r, tab10, tab10_r, tab20, tab20_r, tab20b, tab20b_r, tab20c, tab20c_r, terrain, terrain_r, viridis, viridis_r, vlag, vlag_r, winter, winter_r\u001b[0m\n\u001b[0m                              ^\u001b[0m\n\u001b[0;31mSyntaxError\u001b[0m\u001b[0;31m:\u001b[0m invalid syntax\n"
     ]
    }
   ],
   "source": [
    "ValueError: Colormap maroon is not recognized. Possible values are: Accent, Accent_r, Blues, Blues_r, BrBG, BrBG_r, BuGn, BuGn_r, BuPu, BuPu_r, CMRmap, CMRmap_r, Dark2, Dark2_r, GnBu, GnBu_r, Greens, Greens_r, Greys, Greys_r, OrRd, OrRd_r, Oranges, Oranges_r, PRGn, PRGn_r, Paired, Paired_r, Pastel1, Pastel1_r, Pastel2, Pastel2_r, PiYG, PiYG_r, PuBu, PuBuGn, PuBuGn_r, PuBu_r, PuOr, PuOr_r, PuRd, PuRd_r, Purples, Purples_r, RdBu, RdBu_r, RdGy, RdGy_r, RdPu, RdPu_r, RdYlBu, RdYlBu_r, RdYlGn, RdYlGn_r, Reds, Reds_r, Set1, Set1_r, Set2, Set2_r, Set3, Set3_r, Spectral, Spectral_r, Wistia, Wistia_r, YlGn, YlGnBu, YlGnBu_r, YlGn_r, YlOrBr, YlOrBr_r, YlOrRd, YlOrRd_r, afmhot, afmhot_r, autumn, autumn_r, binary, binary_r, bone, bone_r, brg, brg_r, bwr, bwr_r, cividis, cividis_r, cool, cool_r, coolwarm, coolwarm_r, copper, copper_r, cubehelix, cubehelix_r, flag, flag_r, gist_earth, gist_earth_r, gist_gray, gist_gray_r, gist_heat, gist_heat_r, gist_ncar, gist_ncar_r, gist_rainbow, gist_rainbow_r, gist_stern, gist_stern_r, gist_yarg, gist_yarg_r, gnuplot, gnuplot2, gnuplot2_r, gnuplot_r, gray, gray_r, hot, hot_r, hsv, hsv_r, icefire, icefire_r, inferno, inferno_r, jet, jet_r, magma, magma_r, mako, mako_r, nipy_spectral, nipy_spectral_r, ocean, ocean_r, pink, pink_r, plasma, plasma_r, prism, prism_r, rainbow, rainbow_r, rocket, rocket_r, seismic, seismic_r, spring, spring_r, summer, summer_r, tab10, tab10_r, tab20, tab20_r, tab20b, tab20b_r, tab20c, tab20c_r, terrain, terrain_r, viridis, viridis_r, vlag, vlag_r, winter, winter_r\n",
    "        "
   ]
  },
  {
   "cell_type": "code",
   "execution_count": null,
   "metadata": {},
   "outputs": [],
   "source": [
    "for i in range(10):\n",
    "    display(plt.imshow(CACHE[99*i]))\n",
    "    \n",
    "    if i == 4 : break"
   ]
  },
  {
   "cell_type": "code",
   "execution_count": null,
   "metadata": {},
   "outputs": [],
   "source": []
  },
  {
   "cell_type": "code",
   "execution_count": null,
   "metadata": {},
   "outputs": [],
   "source": []
  }
 ],
 "metadata": {
  "kernelspec": {
   "display_name": "Python 3",
   "language": "python",
   "name": "python3"
  },
  "language_info": {
   "codemirror_mode": {
    "name": "ipython",
    "version": 3
   },
   "file_extension": ".py",
   "mimetype": "text/x-python",
   "name": "python",
   "nbconvert_exporter": "python",
   "pygments_lexer": "ipython3",
   "version": "3.7.4"
  },
  "toc": {
   "base_numbering": 1,
   "nav_menu": {},
   "number_sections": true,
   "sideBar": true,
   "skip_h1_title": false,
   "title_cell": "Table of Contents",
   "title_sidebar": "Contents",
   "toc_cell": false,
   "toc_position": {},
   "toc_section_display": true,
   "toc_window_display": false
  },
  "varInspector": {
   "cols": {
    "lenName": 16,
    "lenType": 16,
    "lenVar": 40
   },
   "kernels_config": {
    "python": {
     "delete_cmd_postfix": "",
     "delete_cmd_prefix": "del ",
     "library": "var_list.py",
     "varRefreshCmd": "print(var_dic_list())"
    },
    "r": {
     "delete_cmd_postfix": ") ",
     "delete_cmd_prefix": "rm(",
     "library": "var_list.r",
     "varRefreshCmd": "cat(var_dic_list()) "
    }
   },
   "types_to_exclude": [
    "module",
    "function",
    "builtin_function_or_method",
    "instance",
    "_Feature"
   ],
   "window_display": false
  }
 },
 "nbformat": 4,
 "nbformat_minor": 2
}
