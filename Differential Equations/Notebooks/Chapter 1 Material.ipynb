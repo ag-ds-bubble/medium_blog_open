{
 "cells": [
  {
   "cell_type": "markdown",
   "metadata": {},
   "source": [
    "# Imports"
   ]
  },
  {
   "cell_type": "code",
   "execution_count": null,
   "metadata": {
    "ExecuteTime": {
     "end_time": "2020-05-15T10:33:54.106215Z",
     "start_time": "2020-05-15T10:33:53.545896Z"
    }
   },
   "outputs": [],
   "source": [
    "import numpy as np\n",
    "import matplotlib.pyplot as plt\n",
    "from matplotlib.patches import Rectangle, Arrow\n",
    "from matplotlib.animation import FuncAnimation\n",
    "from mpl_toolkits.axes_grid.inset_locator import inset_axes\n",
    "%matplotlib inline\n",
    "import re\n",
    "from scipy.integrate import odeint, solve_ivp"
   ]
  },
  {
   "cell_type": "markdown",
   "metadata": {},
   "source": [
    "# Decalaring Paths"
   ]
  },
  {
   "cell_type": "code",
   "execution_count": null,
   "metadata": {
    "ExecuteTime": {
     "end_time": "2020-05-15T10:37:05.892661Z",
     "start_time": "2020-05-15T10:37:05.890028Z"
    }
   },
   "outputs": [],
   "source": [
    "results_path = '../Notebook Results/Chapter 1/'"
   ]
  },
  {
   "cell_type": "markdown",
   "metadata": {},
   "source": [
    "# Initializations"
   ]
  },
  {
   "cell_type": "code",
   "execution_count": null,
   "metadata": {
    "ExecuteTime": {
     "end_time": "2020-05-15T10:33:54.324916Z",
     "start_time": "2020-05-15T10:33:54.321432Z"
    }
   },
   "outputs": [],
   "source": [
    "plt.rcParams['figure.dpi'] = 180\n",
    "plt.rcParams['figure.figsize'] = (10,8)"
   ]
  },
  {
   "cell_type": "markdown",
   "metadata": {},
   "source": [
    "# Materials\n",
    "\n",
    "$$f(x) = 3x^2 + 2x + 10$$\n",
    "$$f'(x) = 6x + 2$$\n"
   ]
  },
  {
   "cell_type": "code",
   "execution_count": null,
   "metadata": {
    "ExecuteTime": {
     "end_time": "2020-05-15T10:37:59.823541Z",
     "start_time": "2020-05-15T10:37:59.642308Z"
    }
   },
   "outputs": [],
   "source": [
    "# Function\n",
    "x = np.linspace(-100,100, 10000)\n",
    "y = 3*(x**2) + 2*x - 1000\n",
    "\n",
    "fig, axes = plt.subplots()\n",
    "axes.plot(x,y)\n",
    "axes.text(-20,25000, '$Function$', fontsize = 20, color= 'w')\n",
    "axes.grid()\n",
    "axes.set_facecolor('k')\n",
    "fig.savefig(results_path+'function.jpg', bbox_inches = 'tight')\n",
    "plt.close()"
   ]
  },
  {
   "cell_type": "code",
   "execution_count": null,
   "metadata": {
    "ExecuteTime": {
     "end_time": "2020-05-15T10:38:01.064618Z",
     "start_time": "2020-05-15T10:38:00.888951Z"
    }
   },
   "outputs": [],
   "source": [
    "# Limit\n",
    "x = np.linspace(-100,100, 10000)\n",
    "y = 3*(x**2) + 2*x - 1000\n",
    "\n",
    "fig, axes = plt.subplots()\n",
    "axes.fill_between(x,y,0, color='gray')\n",
    "axes.text(-20,25000, '$Limit$', fontsize = 20, color= 'w')\n",
    "axes.grid()\n",
    "axes.set_facecolor('k')\n",
    "fig.savefig(results_path+'limit.jpg', bbox_inches = 'tight')\n",
    "plt.close()"
   ]
  },
  {
   "cell_type": "code",
   "execution_count": null,
   "metadata": {
    "ExecuteTime": {
     "end_time": "2020-05-15T10:38:01.500330Z",
     "start_time": "2020-05-15T10:38:01.300604Z"
    }
   },
   "outputs": [],
   "source": [
    "# Derivative\n",
    "x = np.linspace(-100,100, 10000)\n",
    "y = 6*x + 2\n",
    "\n",
    "fig, axes = plt.subplots()\n",
    "axes.plot(x,y)\n",
    "axes.fill_between(x,y,0, color='gray')\n",
    "axes.text(-20,500, '$Derivative$', fontsize = 20, color= 'w')\n",
    "axes.grid()\n",
    "axes.set_facecolor('k')\n",
    "fig.savefig(results_path+'derivative.jpg', bbox_inches = 'tight')\n",
    "plt.close()"
   ]
  },
  {
   "cell_type": "code",
   "execution_count": null,
   "metadata": {
    "ExecuteTime": {
     "end_time": "2020-05-15T10:38:01.739708Z",
     "start_time": "2020-05-15T10:38:01.560491Z"
    }
   },
   "outputs": [],
   "source": [
    "# Integral\n",
    "x = np.linspace(-100,100, 10000)\n",
    "y = 6*x + 2\n",
    "\n",
    "fig, axes = plt.subplots()\n",
    "axes.plot(x,y)\n",
    "axes.fill_between(x,y,0, color='lightblue')\n",
    "axes.text(-20,500, '$Integral$', fontsize = 20, color= 'w')\n",
    "axes.grid()\n",
    "axes.set_facecolor('k')\n",
    "fig.savefig(results_path+'integral.jpg', bbox_inches = 'tight')\n",
    "plt.close()"
   ]
  },
  {
   "cell_type": "markdown",
   "metadata": {
    "ExecuteTime": {
     "end_time": "2020-05-15T11:07:14.528671Z",
     "start_time": "2020-05-15T11:07:14.524717Z"
    }
   },
   "source": [
    "$$y = f(x, t) = (3x^2+6x-10).(sin(t).e^{-t})$$\\\n",
    "$$\\frac{\\partial f(x,t)}{\\partial x} = (6x+2).(sin(t).e^{-t})$$\\\n",
    "$$\\frac{\\partial f(x,t)}{\\partial t} = (3x^2+6x-10).(cos(t).e^{-t} - sin(t).e^{-t})$$\\\n",
    "$$\\frac{\\partial^2 f(x,t)}{\\partial x \\partial t} = (6x+2).(cos(t).e^{-t} - sin(t).e^{-t})$$\n"
   ]
  },
  {
   "cell_type": "code",
   "execution_count": null,
   "metadata": {
    "ExecuteTime": {
     "end_time": "2020-05-15T11:24:00.269616Z",
     "start_time": "2020-05-15T11:23:58.939649Z"
    }
   },
   "outputs": [],
   "source": [
    "import numpy as np \n",
    "import matplotlib.pyplot as plt \n",
    "import mpl_toolkits.mplot3d\n",
    "\n",
    "plt.rcParams['figure.figsize'] = (15,6)\n",
    "x = np.linspace(-10,10, 100)\n",
    "t = np.linspace(0, 10, 100)\n",
    "\n",
    "xx, tt = np.meshgrid(x,t)\n",
    "ff = (3*(xx**2) + 2*xx - 10) * (np.sin(tt)*np.exp(-tt))\n",
    "\n",
    "\n",
    "output = plt.subplot(111, projection = '3d')   # 3d projection\n",
    "output.plot_surface(xx, tt, ff, rstride = 2, cstride = 1, cmap = plt.cm.Blues_r)\n",
    "output.set_xlabel('$x \\longrightarrow $')\n",
    "output.set_ylabel('$Time \\longrightarrow $')\n",
    "output.set_zlabel('$y \\longrightarrow $')\n",
    "output.set_title('Orignal Function')"
   ]
  },
  {
   "cell_type": "code",
   "execution_count": null,
   "metadata": {
    "ExecuteTime": {
     "end_time": "2020-05-15T11:27:58.978755Z",
     "start_time": "2020-05-15T11:27:57.608225Z"
    }
   },
   "outputs": [],
   "source": [
    "# Partial Deriv wrt x\n",
    "xx, tt = np.meshgrid(x,t)\n",
    "ff = (6*(xx) + 2) * (np.sin(tt)*np.exp(-tt))\n",
    "\n",
    "plt.rcParams['figure.figsize'] = (15,6)\n",
    "output = plt.subplot(111, projection = '3d')   # 3d projection\n",
    "output.plot_surface(xx, tt, ff, rstride = 2, cstride = 1, cmap = plt.cm.Blues_r)\n",
    "output.set_xlabel('$x \\longrightarrow $')\n",
    "output.set_ylabel('$Time \\longrightarrow $')\n",
    "output.set_zlabel('$y \\longrightarrow $')\n",
    "output.set_title('$Partial\\ Derivative\\ By\\ X$')"
   ]
  },
  {
   "cell_type": "code",
   "execution_count": null,
   "metadata": {
    "ExecuteTime": {
     "end_time": "2020-05-15T11:28:02.131757Z",
     "start_time": "2020-05-15T11:28:00.690058Z"
    }
   },
   "outputs": [],
   "source": [
    "# Partial Deriv wrt t\n",
    "xx, tt = np.meshgrid(x,t)\n",
    "ff = (3*(xx**2) + 2*xx - 10) * (np.cos(tt)*np.exp(-tt) - np.sin(tt)*np.exp(-tt) )\n",
    "\n",
    "plt.rcParams['figure.figsize'] = (15,6)\n",
    "output = plt.subplot(111, projection = '3d')   # 3d projection\n",
    "output.plot_surface(xx, tt, ff, rstride = 2, cstride = 1, cmap = plt.cm.Blues_r)\n",
    "output.set_xlabel('$x \\longrightarrow $')\n",
    "output.set_ylabel('$Time \\longrightarrow $')\n",
    "output.set_zlabel('$y \\longrightarrow $')\n",
    "output.set_title('$Partial\\ Derivative\\ By\\ T$')"
   ]
  },
  {
   "cell_type": "code",
   "execution_count": null,
   "metadata": {
    "ExecuteTime": {
     "end_time": "2020-05-15T11:28:03.688757Z",
     "start_time": "2020-05-15T11:28:02.177943Z"
    }
   },
   "outputs": [],
   "source": [
    "# Partial Deriv wrt t and x\n",
    "xx, tt = np.meshgrid(x,t)\n",
    "ff = (6*(xx) + 2) * (np.cos(tt)*np.exp(-tt) - np.sin(tt)*np.exp(-tt) )\n",
    "\n",
    "plt.rcParams['figure.figsize'] = (15,6)\n",
    "output = plt.subplot(111, projection = '3d')   # 3d projection\n",
    "output.plot_surface(xx, tt, ff, rstride = 2, cstride = 1, cmap = plt.cm.Blues_r)\n",
    "output.set_xlabel('$x \\longrightarrow $')\n",
    "output.set_ylabel('$Time \\longrightarrow $')\n",
    "output.set_zlabel('$y \\longrightarrow $')\n",
    "output.set_title('$Partial\\ Derivative\\ By\\ X\\ and\\ T$')"
   ]
  },
  {
   "cell_type": "code",
   "execution_count": null,
   "metadata": {},
   "outputs": [],
   "source": []
  },
  {
   "cell_type": "code",
   "execution_count": null,
   "metadata": {},
   "outputs": [],
   "source": []
  }
 ],
 "metadata": {
  "hide_input": false,
  "kernelspec": {
   "display_name": "Python 3",
   "language": "python",
   "name": "python3"
  },
  "language_info": {
   "codemirror_mode": {
    "name": "ipython",
    "version": 3
   },
   "file_extension": ".py",
   "mimetype": "text/x-python",
   "name": "python",
   "nbconvert_exporter": "python",
   "pygments_lexer": "ipython3",
   "version": "3.7.4"
  },
  "toc": {
   "base_numbering": 1,
   "nav_menu": {},
   "number_sections": true,
   "sideBar": true,
   "skip_h1_title": false,
   "title_cell": "Table of Contents",
   "title_sidebar": "Contents",
   "toc_cell": false,
   "toc_position": {},
   "toc_section_display": true,
   "toc_window_display": false
  },
  "varInspector": {
   "cols": {
    "lenName": 16,
    "lenType": 16,
    "lenVar": 40
   },
   "kernels_config": {
    "python": {
     "delete_cmd_postfix": "",
     "delete_cmd_prefix": "del ",
     "library": "var_list.py",
     "varRefreshCmd": "print(var_dic_list())"
    },
    "r": {
     "delete_cmd_postfix": ") ",
     "delete_cmd_prefix": "rm(",
     "library": "var_list.r",
     "varRefreshCmd": "cat(var_dic_list()) "
    }
   },
   "types_to_exclude": [
    "module",
    "function",
    "builtin_function_or_method",
    "instance",
    "_Feature"
   ],
   "window_display": false
  }
 },
 "nbformat": 4,
 "nbformat_minor": 2
}
